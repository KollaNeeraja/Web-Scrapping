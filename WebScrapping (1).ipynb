{
 "cells": [
  {
   "cell_type": "code",
   "execution_count": 1,
   "id": "c5ea6392",
   "metadata": {},
   "outputs": [
    {
     "name": "stdout",
     "output_type": "stream",
     "text": [
      "Requirement already satisfied: autoscraper in c:\\users\\neeraja\\anaconda3\\lib\\site-packages (1.1.14)\n",
      "Requirement already satisfied: lxml in c:\\users\\neeraja\\anaconda3\\lib\\site-packages (from autoscraper) (4.8.0)\n",
      "Requirement already satisfied: bs4 in c:\\users\\neeraja\\anaconda3\\lib\\site-packages (from autoscraper) (0.0.1)\n",
      "Requirement already satisfied: requests in c:\\users\\neeraja\\anaconda3\\lib\\site-packages (from autoscraper) (2.27.1)\n",
      "Requirement already satisfied: beautifulsoup4 in c:\\users\\neeraja\\anaconda3\\lib\\site-packages (from bs4->autoscraper) (4.11.1)\n",
      "Requirement already satisfied: soupsieve>1.2 in c:\\users\\neeraja\\anaconda3\\lib\\site-packages (from beautifulsoup4->bs4->autoscraper) (2.3.1)\n",
      "Requirement already satisfied: idna<4,>=2.5 in c:\\users\\neeraja\\anaconda3\\lib\\site-packages (from requests->autoscraper) (3.3)\n",
      "Requirement already satisfied: certifi>=2017.4.17 in c:\\users\\neeraja\\anaconda3\\lib\\site-packages (from requests->autoscraper) (2021.10.8)\n",
      "Requirement already satisfied: charset-normalizer~=2.0.0 in c:\\users\\neeraja\\anaconda3\\lib\\site-packages (from requests->autoscraper) (2.0.4)\n",
      "Requirement already satisfied: urllib3<1.27,>=1.21.1 in c:\\users\\neeraja\\anaconda3\\lib\\site-packages (from requests->autoscraper) (1.26.9)\n"
     ]
    }
   ],
   "source": [
    "!pip install autoscraper\n",
    "\n"
   ]
  },
  {
   "cell_type": "code",
   "execution_count": 2,
   "id": "d0b7a485",
   "metadata": {},
   "outputs": [],
   "source": [
    "from autoscraper import AutoScraper\n"
   ]
  },
  {
   "cell_type": "code",
   "execution_count": 3,
   "id": "2f984d16",
   "metadata": {},
   "outputs": [],
   "source": [
    "Lirics_url = 'https://www.lyricstape.com/movie-directory'\n",
    "\n",
    "wanted_list = [\"2022\"]"
   ]
  },
  {
   "cell_type": "code",
   "execution_count": 4,
   "id": "b06c671f",
   "metadata": {},
   "outputs": [
    {
     "name": "stdout",
     "output_type": "stream",
     "text": [
      "['2023', '2022', '2021', '2020', '2019', '2018', '2017', '2016', '2015', '2014', '2013', '2012', '2011', '2010', '2009', '2008', '2007', '2006', '2005', '2004', '2003', '2002', '2001', '2000', '1999', '1998', '1997', '1996', '1995', '1994', '1993', '1992', '1991', '1981']\n"
     ]
    }
   ],
   "source": [
    "scraper = AutoScraper()\n",
    "result = scraper.build(Lirics_url, wanted_list)\n",
    "print(result)\n"
   ]
  },
  {
   "cell_type": "code",
   "execution_count": 5,
   "id": "7c682649",
   "metadata": {},
   "outputs": [],
   "source": [
    "Lirics_subpage_url = 'https://www.lyricstape.com/album/adipurush/1014'\n",
    "    \n",
    "wanted_list = [\"Jai Shri Ram\"]    \n"
   ]
  },
  {
   "cell_type": "code",
   "execution_count": 6,
   "id": "255fb789",
   "metadata": {},
   "outputs": [
    {
     "name": "stdout",
     "output_type": "stream",
     "text": [
      "['Jai Shri Ram', 'Ram Sita Ram', 'Priya Mithunam', 'Huppa Huiya', 'Shivoham']\n"
     ]
    }
   ],
   "source": [
    "scraper = AutoScraper()\n",
    "result = scraper.build(Lirics_subpage_url, wanted_list)\n",
    "print(result)"
   ]
  },
  {
   "cell_type": "code",
   "execution_count": 9,
   "id": "a65e47ff",
   "metadata": {},
   "outputs": [],
   "source": [
    "Lirics_subpage1_url = 'https://www.lyricstape.com/album/adipurush-jai-shri-ram-song-lyrics/1014/3060'\n",
    "\n",
    "wanted_list = [\" Song:  Jai Shri Ram\", \" Lyricist:  Ramajogayya Sastry\", \"Singers:  Ajay – Atul\"]    \n",
    "\n",
    "        \n",
    "   \n",
    "        "
   ]
  },
  {
   "cell_type": "code",
   "execution_count": 10,
   "id": "b7ed7346",
   "metadata": {},
   "outputs": [
    {
     "name": "stdout",
     "output_type": "stream",
     "text": [
      "[]\n"
     ]
    }
   ],
   "source": [
    "scraper = AutoScraper()\n",
    "result = scraper.build(Lirics_subpage1_url, wanted_list)\n",
    "print(result)\n"
   ]
  },
  {
   "cell_type": "code",
   "execution_count": null,
   "id": "31381c85",
   "metadata": {},
   "outputs": [],
   "source": []
  },
  {
   "cell_type": "code",
   "execution_count": null,
   "id": "5937da3f",
   "metadata": {},
   "outputs": [],
   "source": []
  }
 ],
 "metadata": {
  "kernelspec": {
   "display_name": "Python 3 (ipykernel)",
   "language": "python",
   "name": "python3"
  },
  "language_info": {
   "codemirror_mode": {
    "name": "ipython",
    "version": 3
   },
   "file_extension": ".py",
   "mimetype": "text/x-python",
   "name": "python",
   "nbconvert_exporter": "python",
   "pygments_lexer": "ipython3",
   "version": "3.9.12"
  }
 },
 "nbformat": 4,
 "nbformat_minor": 5
}
